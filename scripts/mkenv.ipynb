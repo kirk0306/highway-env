{
 "cells": [
  {
   "cell_type": "code",
   "execution_count": null,
   "source": [
    "import gym\n",
    "import highway_env\n",
    "import os\n",
    "from matplotlib import pyplot as plt\n",
    "import numpy as np\n",
    "import pprint\n",
    "# %matplotlib inline\n",
    "#@markdown <h3>← 输入需要进入的项目文件夹\n",
    "os.chdir('/content/drive/MyDrive/researchHub')\n",
    "retval = os.getcwd()\n",
    "print(\"当前工作目录为 : %s\" % retval)\n",
    "path = \"highway-env\" #@param {type: \"string\"}\n",
    "os.chdir(path)\n",
    "retval = os.getcwd()\n",
    "print(\"目录修改成功 : %s\" % retval)\n",
    "# %pip install .\n",
    "\n",
    "env = gym.make('merge-v0')\n",
    "env.configure({\"offscreen_rendering\": True})\n",
    "img = env.render(mode='rgb_array')\n",
    "env.reset()\n",
    "for _ in range(1):\n",
    "\n",
    "    action = env.action_space.sample()\n",
    "    obs, reward, done, info = env.step(action)\n",
    "    env.render()\n",
    "\n",
    "plt.imshow(env.render(mode=\"rgb_array\"))\n",
    "plt.show()"
   ],
   "outputs": [],
   "metadata": {}
  }
 ],
 "metadata": {
  "interpreter": {
   "hash": "31f2aee4e71d21fbe5cf8b01ff0e069b9275f58929596ceb00d14d90e3e16cd6"
  },
  "kernelspec": {
   "name": "python3",
   "display_name": "Python 3.7.13 64-bit"
  },
  "language_info": {
   "codemirror_mode": {
    "name": "ipython",
    "version": 3
   },
   "file_extension": ".py",
   "mimetype": "text/x-python",
   "name": "python",
   "nbconvert_exporter": "python",
   "pygments_lexer": "ipython3",
   "version": "3.7.13"
  },
  "orig_nbformat": 4
 },
 "nbformat": 4,
 "nbformat_minor": 2
}
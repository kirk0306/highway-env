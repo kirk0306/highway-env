{
 "cells": [
  {
   "cell_type": "code",
   "execution_count": null,
   "metadata": {},
   "outputs": [],
   "source": [
    "import gym\n",
    "import highway_env\n",
    "\n",
    "env = gym.make('merge-v0')\n",
    "env.seed(0)\n",
    "\n",
    "env.configure({\"controlled_vehicles\": 5})  # Two controlled vehicles\n",
    "env.configure({\"initial_vehicle_count\": 10})  # A single other vehicle, for the sake of visualisation\n",
    "env.configure({\"scaling\": 2.5})\n",
    "env.configure({\"screen_width\": 600})\n",
    "env.configure({\"screen_height\": 150}) \n",
    "env.reset()\n",
    "\n",
    "from matplotlib import pyplot as plt\n",
    "%matplotlib inline\n",
    "plt.imshow(env.render(mode=\"rgb_array\"))\n",
    "plt.title(\"Torus env\")\n",
    "# plt.show()\n",
    "import numpy as np\n",
    "next_move = env.vehicle.predict_trajectory_constant_speed(np.arange(1, 3, 1))\n",
    "print(\"next move: \", next_move)\n",
    "plt.savefig('./t.png')"
   ]
  },
  {
   "cell_type": "code",
   "execution_count": null,
   "metadata": {},
   "outputs": [],
   "source": [
    "env.configure({\n",
    "    \"action\": {\n",
    "      \"type\": \"MultiAgentAction\",\n",
    "      \"action_config\": {\n",
    "        \"type\": \"DiscreteMetaAction\",\n",
    "    },\n",
    "  },\n",
    "    \"observation\": {\n",
    "    \"type\": \"MultiAgentObservation\",\n",
    "    \"observation_config\": {\n",
    "      \"type\": \"TimeToCollision\",\n",
    "      \"horizon\": 10\n",
    "    },\n",
    "    \"show_trajectories\": True,\n",
    "  }\n",
    "})\n",
    "env.reset()\n",
    "\n",
    "_, (ax1, ax2) = plt.subplots(nrows=2)\n",
    "ax1.imshow(env.render(mode=\"rgb_array\"))\n",
    "ax1.set_title(\"Initial state\")\n",
    "\n",
    "# Make the first vehicle change to the left lane, and the second one to the right\n",
    "action_1, action_2 = 2, 0  # See highway_env.envs.common.action.DiscreteMetaAction.ACTIONS_ALL\n",
    "env.step((action_1, action_2))\n",
    "\n",
    "ax2.imshow(env.render(mode=\"rgb_array\"))\n",
    "ax2.set_title(\"After sending actions to each vehicle\")\n",
    "plt.show()\n",
    "# plt.savefig('./t.png')\n"
   ]
  },
  {
   "cell_type": "code",
   "execution_count": null,
   "metadata": {},
   "outputs": [],
   "source": [
    "env.configure({\n",
    "  \"observation\": {\n",
    "    \"type\": \"MultiAgentObservation\",\n",
    "    \"observation_config\": {\n",
    "      \"type\": \"TimeToCollision\",\n",
    "      \"horizon\": 10\n",
    "    }\n",
    "  }\n",
    "})\n",
    "obs = env.reset()\n",
    "\n",
    "import pprint\n",
    "pprint.pprint(obs)\n",
    "import numpy as np\n",
    "next_move = env.vehicle.predict_trajectory_constant_speed(np.arange(1, 6, 1))\n",
    "print(\"next move: \", next_move)"
   ]
  }
 ],
 "metadata": {
  "kernelspec": {
   "display_name": "Python 3.8.13 ('highwayenv')",
   "language": "python",
   "name": "python3"
  },
  "language_info": {
   "codemirror_mode": {
    "name": "ipython",
    "version": 3
   },
   "file_extension": ".py",
   "mimetype": "text/x-python",
   "name": "python",
   "nbconvert_exporter": "python",
   "pygments_lexer": "ipython3",
   "version": "3.8.13"
  },
  "orig_nbformat": 4,
  "vscode": {
   "interpreter": {
    "hash": "d05b9a588ecdb959582c4b97e2dfe9c6ba1138cb8e690934971ed4dd3f912f0b"
   }
  }
 },
 "nbformat": 4,
 "nbformat_minor": 2
}

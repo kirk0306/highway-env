{
 "cells": [
  {
   "cell_type": "markdown",
   "metadata": {
    "colab_type": "text",
    "id": "sepDWoBqdRMK"
   },
   "source": [
    "# Training a DQN with social attention on `merge-v0`\n",
    "\n",
    "## Import requirements"
   ]
  },
  {
   "cell_type": "code",
   "execution_count": null,
   "metadata": {
    "colab": {},
    "colab_type": "code",
    "id": "Kx8X4s8krNWt"
   },
   "outputs": [],
   "source": [
    "# Environment\n",
    "# !pip install highway-env\n",
    "import gym\n",
    "import highway_env\n",
    "\n",
    "# Agent\n",
    "# !pip install git+https://github.com/eleurent/rl-agents#egg=rl-agents\n",
    "\n",
    "# Visualisation utils\n",
    "import sys\n",
    "%load_ext tensorboard\n",
    "# !sudo pip install tensorboardx gym pyvirtualdisplay\n",
    "# !sudo apt-get install -y xvfb python-opengl ffmpeg\n",
    "# !git clone https://github.com/eleurent/highway-env.git 2> /dev/null\n",
    "sys.path.insert(0, '/content/highway-env/scripts/')\n",
    "from utils import show_videos"
   ]
  },
  {
   "cell_type": "code",
   "execution_count": null,
   "metadata": {},
   "outputs": [],
   "source": [
    "!ls"
   ]
  },
  {
   "cell_type": "markdown",
   "metadata": {
    "colab_type": "text",
    "id": "vvOEW00pdHrG"
   },
   "source": [
    "## Training\n",
    "\n",
    "Prepare environment, agent, and evaluation process.\n",
    "\n",
    "We use a policy architecture based on social attention, see [[Leurent and Mercat, 2019]](https://arxiv.org/abs/1911.12250).\n"
   ]
  },
  {
   "cell_type": "code",
   "execution_count": null,
   "metadata": {
    "colab": {},
    "colab_type": "code",
    "id": "QowKW3ix45ZW"
   },
   "outputs": [],
   "source": [
    "from rl_agents.trainer.evaluation import Evaluation\n",
    "from rl_agents.agents.common.factory import load_agent, load_environment\n",
    "\n",
    "# Get the environment and agent configurations from the rl-agents repository\n",
    "# !git clone https://github.com/eleurent/rl-agents.git 2> /dev/null\n",
    "# %cd ./rl-agents/scripts/\n",
    "env_config = 'configs/MergeEnv/env_multi_agent.json'\n",
    "agent_config = 'configs/IntersectionEnv/agents/DQNAgent/ego_attention_2h.json'\n",
    "\n",
    "env = load_environment(env_config)\n",
    "agent = load_agent(agent_config, env)\n",
    "evaluation = Evaluation(env, agent, num_episodes=3000, display_env=False, display_agent=False)\n",
    "print(f\"Ready to train {agent} on {env}\")"
   ]
  },
  {
   "cell_type": "markdown",
   "metadata": {
    "colab_type": "text",
    "id": "nqnGqW6jd1xN"
   },
   "source": [
    "Run tensorboard locally to visualize training."
   ]
  },
  {
   "cell_type": "code",
   "execution_count": null,
   "metadata": {
    "colab": {},
    "colab_type": "code",
    "id": "q7QJY2wc4_1N"
   },
   "outputs": [],
   "source": [
    "%tensorboard --logdir \"{evaluation.directory}\""
   ]
  },
  {
   "cell_type": "markdown",
   "metadata": {
    "colab_type": "text",
    "id": "BtK9dtfb0JMF"
   },
   "source": [
    "Start training. This should take about an hour."
   ]
  },
  {
   "cell_type": "code",
   "execution_count": null,
   "metadata": {
    "colab": {},
    "colab_type": "code",
    "id": "sFVq1gFz42Eg"
   },
   "outputs": [],
   "source": [
    "evaluation.train()"
   ]
  },
  {
   "cell_type": "markdown",
   "metadata": {
    "colab_type": "text",
    "id": "-lNvWg42RWiw"
   },
   "source": [
    "Progress can be visualised in the tensorboard cell above, which should update every 30s (or manually). You may need to click the *Fit domain to data* buttons below each graph."
   ]
  },
  {
   "cell_type": "markdown",
   "metadata": {
    "colab_type": "text",
    "id": "VKfvu5uhzCIU"
   },
   "source": [
    "## Testing\n",
    "\n",
    "Run the learned policy for a few episodes."
   ]
  },
  {
   "cell_type": "code",
   "execution_count": null,
   "metadata": {
    "colab": {},
    "colab_type": "code",
    "id": "gY0rpVYUtRpN"
   },
   "outputs": [],
   "source": [
    "env = load_environment(env_config)\n",
    "env.configure({\"offscreen_rendering\": True})\n",
    "agent = load_agent(agent_config, env)\n",
    "evaluation = Evaluation(env, agent, num_episodes=3, recover=True)\n",
    "evaluation.test()\n",
    "show_videos(evaluation.run_directory)"
   ]
  }
 ],
 "metadata": {
  "accelerator": "GPU",
  "colab": {
   "collapsed_sections": [],
   "name": "SocialAttentionDQN",
   "provenance": []
  },
  "kernelspec": {
   "display_name": "Python 3.8.13 ('highwayenv')",
   "language": "python",
   "name": "python3"
  },
  "language_info": {
   "codemirror_mode": {
    "name": "ipython",
    "version": 3
   },
   "file_extension": ".py",
   "mimetype": "text/x-python",
   "name": "python",
   "nbconvert_exporter": "python",
   "pygments_lexer": "ipython3",
   "version": "3.8.13"
  },
  "pycharm": {
   "stem_cell": {
    "cell_type": "raw",
    "metadata": {
     "collapsed": false
    },
    "source": []
   }
  },
  "vscode": {
   "interpreter": {
    "hash": "d05b9a588ecdb959582c4b97e2dfe9c6ba1138cb8e690934971ed4dd3f912f0b"
   }
  }
 },
 "nbformat": 4,
 "nbformat_minor": 0
}
